{
 "cells": [
  {
   "cell_type": "code",
   "execution_count": 1,
   "metadata": {},
   "outputs": [],
   "source": [
    "import pandas as pd\n",
    "import json"
   ]
  },
  {
   "cell_type": "code",
   "execution_count": 2,
   "metadata": {},
   "outputs": [],
   "source": [
    "data = pd.read_csv(\"data.csv\") "
   ]
  },
  {
   "cell_type": "code",
   "execution_count": 4,
   "metadata": {},
   "outputs": [
    {
     "data": {
      "text/html": [
       "<div>\n",
       "<style scoped>\n",
       "    .dataframe tbody tr th:only-of-type {\n",
       "        vertical-align: middle;\n",
       "    }\n",
       "\n",
       "    .dataframe tbody tr th {\n",
       "        vertical-align: top;\n",
       "    }\n",
       "\n",
       "    .dataframe thead th {\n",
       "        text-align: right;\n",
       "    }\n",
       "</style>\n",
       "<table border=\"1\" class=\"dataframe\">\n",
       "  <thead>\n",
       "    <tr style=\"text-align: right;\">\n",
       "      <th></th>\n",
       "      <th>City</th>\n",
       "      <th>Number of Records</th>\n",
       "      <th>division_id</th>\n",
       "      <th>division_name</th>\n",
       "      <th>latitude</th>\n",
       "      <th>longitude</th>\n",
       "      <th>polling_place</th>\n",
       "      <th>polling_place_id</th>\n",
       "      <th>polling_place_name</th>\n",
       "      <th>polling_place_type_id</th>\n",
       "      <th>state</th>\n",
       "      <th>total_formal_votes</th>\n",
       "      <th>tpp_australian_labor_party_percentage</th>\n",
       "      <th>tpp_australian_labor_party_votes</th>\n",
       "      <th>tpp_liberal_national_coalition_percentage</th>\n",
       "      <th>tpp_liberal_national_coalition_votes</th>\n",
       "      <th>tpp_swing</th>\n",
       "    </tr>\n",
       "  </thead>\n",
       "  <tbody>\n",
       "    <tr>\n",
       "      <th>0</th>\n",
       "      <td>Parkes</td>\n",
       "      <td>1</td>\n",
       "      <td>318</td>\n",
       "      <td>Bean</td>\n",
       "      <td>-35.301961</td>\n",
       "      <td>149.129964</td>\n",
       "      <td>Parkes</td>\n",
       "      <td>93928</td>\n",
       "      <td>Parkes (Bean)</td>\n",
       "      <td>1</td>\n",
       "      <td>ACT</td>\n",
       "      <td>542</td>\n",
       "      <td>76.01</td>\n",
       "      <td>412</td>\n",
       "      <td>23.99</td>\n",
       "      <td>130</td>\n",
       "      <td>-11.23</td>\n",
       "    </tr>\n",
       "    <tr>\n",
       "      <th>1</th>\n",
       "      <td>Parkes</td>\n",
       "      <td>1</td>\n",
       "      <td>318</td>\n",
       "      <td>Bean</td>\n",
       "      <td>-35.301961</td>\n",
       "      <td>149.129964</td>\n",
       "      <td>Parkes</td>\n",
       "      <td>97479</td>\n",
       "      <td>Parkes BEAN PPVC</td>\n",
       "      <td>5</td>\n",
       "      <td>ACT</td>\n",
       "      <td>948</td>\n",
       "      <td>63.08</td>\n",
       "      <td>598</td>\n",
       "      <td>36.92</td>\n",
       "      <td>350</td>\n",
       "      <td>36.92</td>\n",
       "    </tr>\n",
       "    <tr>\n",
       "      <th>2</th>\n",
       "      <td>Griffith</td>\n",
       "      <td>1</td>\n",
       "      <td>101</td>\n",
       "      <td>Canberra</td>\n",
       "      <td>-35.322200</td>\n",
       "      <td>149.145000</td>\n",
       "      <td>Griffith</td>\n",
       "      <td>8817</td>\n",
       "      <td>Griffith</td>\n",
       "      <td>1</td>\n",
       "      <td>ACT</td>\n",
       "      <td>1398</td>\n",
       "      <td>62.52</td>\n",
       "      <td>874</td>\n",
       "      <td>37.48</td>\n",
       "      <td>524</td>\n",
       "      <td>-8.40</td>\n",
       "    </tr>\n",
       "    <tr>\n",
       "      <th>3</th>\n",
       "      <td>Parkes</td>\n",
       "      <td>1</td>\n",
       "      <td>101</td>\n",
       "      <td>Canberra</td>\n",
       "      <td>-35.301961</td>\n",
       "      <td>149.129964</td>\n",
       "      <td>Parkes</td>\n",
       "      <td>65741</td>\n",
       "      <td>Parkes (Canberra)</td>\n",
       "      <td>1</td>\n",
       "      <td>ACT</td>\n",
       "      <td>2438</td>\n",
       "      <td>78.34</td>\n",
       "      <td>1910</td>\n",
       "      <td>21.66</td>\n",
       "      <td>528</td>\n",
       "      <td>-11.06</td>\n",
       "    </tr>\n",
       "    <tr>\n",
       "      <th>4</th>\n",
       "      <td>Parkes</td>\n",
       "      <td>1</td>\n",
       "      <td>101</td>\n",
       "      <td>Canberra</td>\n",
       "      <td>-35.301961</td>\n",
       "      <td>149.129964</td>\n",
       "      <td>Parkes</td>\n",
       "      <td>65742</td>\n",
       "      <td>Parkes CANBERRA PPVC</td>\n",
       "      <td>5</td>\n",
       "      <td>ACT</td>\n",
       "      <td>2878</td>\n",
       "      <td>62.23</td>\n",
       "      <td>1791</td>\n",
       "      <td>37.77</td>\n",
       "      <td>1087</td>\n",
       "      <td>-3.08</td>\n",
       "    </tr>\n",
       "  </tbody>\n",
       "</table>\n",
       "</div>"
      ],
      "text/plain": [
       "       City  Number of Records  division_id division_name   latitude  \\\n",
       "0    Parkes                  1          318          Bean -35.301961   \n",
       "1    Parkes                  1          318          Bean -35.301961   \n",
       "2  Griffith                  1          101      Canberra -35.322200   \n",
       "3    Parkes                  1          101      Canberra -35.301961   \n",
       "4    Parkes                  1          101      Canberra -35.301961   \n",
       "\n",
       "    longitude polling_place  polling_place_id    polling_place_name  \\\n",
       "0  149.129964        Parkes             93928         Parkes (Bean)   \n",
       "1  149.129964        Parkes             97479      Parkes BEAN PPVC   \n",
       "2  149.145000      Griffith              8817              Griffith   \n",
       "3  149.129964        Parkes             65741     Parkes (Canberra)   \n",
       "4  149.129964        Parkes             65742  Parkes CANBERRA PPVC   \n",
       "\n",
       "   polling_place_type_id state  total_formal_votes  \\\n",
       "0                      1   ACT                 542   \n",
       "1                      5   ACT                 948   \n",
       "2                      1   ACT                1398   \n",
       "3                      1   ACT                2438   \n",
       "4                      5   ACT                2878   \n",
       "\n",
       "   tpp_australian_labor_party_percentage  tpp_australian_labor_party_votes  \\\n",
       "0                                  76.01                               412   \n",
       "1                                  63.08                               598   \n",
       "2                                  62.52                               874   \n",
       "3                                  78.34                              1910   \n",
       "4                                  62.23                              1791   \n",
       "\n",
       "   tpp_liberal_national_coalition_percentage  \\\n",
       "0                                      23.99   \n",
       "1                                      36.92   \n",
       "2                                      37.48   \n",
       "3                                      21.66   \n",
       "4                                      37.77   \n",
       "\n",
       "   tpp_liberal_national_coalition_votes  tpp_swing  \n",
       "0                                   130     -11.23  \n",
       "1                                   350      36.92  \n",
       "2                                   524      -8.40  \n",
       "3                                   528     -11.06  \n",
       "4                                  1087      -3.08  "
      ]
     },
     "execution_count": 4,
     "metadata": {},
     "output_type": "execute_result"
    }
   ],
   "source": [
    "data.head()"
   ]
  },
  {
   "cell_type": "code",
   "execution_count": 7,
   "metadata": {},
   "outputs": [
    {
     "data": {
      "text/plain": [
       "-27.469"
      ]
     },
     "execution_count": 7,
     "metadata": {},
     "output_type": "execute_result"
    }
   ],
   "source": [
    "list(data.loc[data['City'].str.lower() == 'brisbane']['latitude'])[0]"
   ]
  },
  {
   "cell_type": "code",
   "execution_count": 9,
   "metadata": {},
   "outputs": [],
   "source": [
    "loc = []\n",
    "for city in cities:\n",
    "    loc.append((list(data.loc[data['City'].str.lower() == city]['latitude'])[0], list(data.loc[data['City'].str.lower() == city]['longitude'])[0] ))"
   ]
  },
  {
   "cell_type": "code",
   "execution_count": 10,
   "metadata": {},
   "outputs": [
    {
     "data": {
      "text/plain": [
       "[(-34.9218994, 138.5980605),\n",
       " (-37.80983870000001, 144.97205659999997),\n",
       " (-33.8730501, 151.20645280000002),\n",
       " (-27.469, 153.023),\n",
       " (-41.5725, 147.173)]"
      ]
     },
     "execution_count": 10,
     "metadata": {},
     "output_type": "execute_result"
    }
   ],
   "source": [
    "loc"
   ]
  },
  {
   "cell_type": "code",
   "execution_count": 11,
   "metadata": {},
   "outputs": [],
   "source": [
    "temp = {}\n",
    "for i in range(5):\n",
    "    temp[cities[i]] = loc[i]"
   ]
  },
  {
   "cell_type": "code",
   "execution_count": 12,
   "metadata": {},
   "outputs": [
    {
     "data": {
      "text/plain": [
       "{'adelaide': (-34.9218994, 138.5980605),\n",
       " 'melbourne': (-37.80983870000001, 144.97205659999997),\n",
       " 'sydney': (-33.8730501, 151.20645280000002),\n",
       " 'brisbane': (-27.469, 153.023),\n",
       " 'perth': (-41.5725, 147.173)}"
      ]
     },
     "execution_count": 12,
     "metadata": {},
     "output_type": "execute_result"
    }
   ],
   "source": [
    "temp"
   ]
  },
  {
   "cell_type": "code",
   "execution_count": 14,
   "metadata": {},
   "outputs": [
    {
     "data": {
      "text/plain": [
       "38879"
      ]
     },
     "execution_count": 14,
     "metadata": {},
     "output_type": "execute_result"
    }
   ],
   "source": [
    "sum(data.loc[data['City'].str.lower() == 'brisbane'][''])"
   ]
  },
  {
   "cell_type": "code",
   "execution_count": 8,
   "metadata": {},
   "outputs": [],
   "source": [
    "cities = ['adelaide', 'melbourne', 'sydney', 'brisbane', 'perth', ]"
   ]
  },
  {
   "cell_type": "code",
   "execution_count": 15,
   "metadata": {},
   "outputs": [],
   "source": [
    "res = {}\n",
    "for city in cities:\n",
    "    temp = sum(data.loc[ data['City'].str.lower() == city ]['total_formal_votes'])\n",
    "    res[city] = temp"
   ]
  },
  {
   "cell_type": "code",
   "execution_count": 16,
   "metadata": {},
   "outputs": [
    {
     "data": {
      "text/plain": [
       "{'adelaide': 13858,\n",
       " 'melbourne': 38285,\n",
       " 'sydney': 24050,\n",
       " 'brisbane': 38879,\n",
       " 'perth': 11816}"
      ]
     },
     "execution_count": 16,
     "metadata": {},
     "output_type": "execute_result"
    }
   ],
   "source": [
    "res"
   ]
  },
  {
   "cell_type": "code",
   "execution_count": 13,
   "metadata": {},
   "outputs": [],
   "source": [
    "with open('location.json', 'w') as fp:\n",
    "    json.dump(temp, fp)"
   ]
  },
  {
   "cell_type": "code",
   "execution_count": 18,
   "metadata": {},
   "outputs": [],
   "source": [
    "import numpy as np\n",
    "import matplotlib.pyplot as plt"
   ]
  },
  {
   "cell_type": "code",
   "execution_count": 37,
   "metadata": {},
   "outputs": [],
   "source": [
    "N = 5\n",
    "with open('result.json') as fp:\n",
    "    data = json.load(fp)\n",
    "    tweets = list(data.values())"
   ]
  },
  {
   "cell_type": "code",
   "execution_count": 38,
   "metadata": {},
   "outputs": [
    {
     "data": {
      "text/plain": [
       "[1664, 5081, 5320, 4071, 3433]"
      ]
     },
     "execution_count": 38,
     "metadata": {},
     "output_type": "execute_result"
    }
   ],
   "source": [
    "tweets"
   ]
  },
  {
   "cell_type": "code",
   "execution_count": 39,
   "metadata": {},
   "outputs": [],
   "source": [
    "votes = list(res.values())"
   ]
  },
  {
   "cell_type": "code",
   "execution_count": 36,
   "metadata": {},
   "outputs": [
    {
     "data": {
      "text/plain": [
       "[13858, 38285, 24050, 38879, 11816]"
      ]
     },
     "execution_count": 36,
     "metadata": {},
     "output_type": "execute_result"
    }
   ],
   "source": [
    "votes"
   ]
  },
  {
   "cell_type": "code",
   "execution_count": 52,
   "metadata": {},
   "outputs": [],
   "source": [
    "temp = []\n",
    "for i in range(5):\n",
    "    temp.append((tweets[i] / votes[i]) * 100 )"
   ]
  },
  {
   "cell_type": "code",
   "execution_count": 53,
   "metadata": {},
   "outputs": [
    {
     "data": {
      "text/plain": [
       "[12.007504690431519,\n",
       " 13.27151625963171,\n",
       " 22.12058212058212,\n",
       " 10.47094832686026,\n",
       " 29.05382532159783]"
      ]
     },
     "execution_count": 53,
     "metadata": {},
     "output_type": "execute_result"
    }
   ],
   "source": [
    "temp"
   ]
  },
  {
   "cell_type": "code",
   "execution_count": 40,
   "metadata": {},
   "outputs": [],
   "source": [
    "ind = np.arange(N)    # the x locations for the groups\n",
    "width = 0.35"
   ]
  },
  {
   "cell_type": "code",
   "execution_count": 41,
   "metadata": {},
   "outputs": [
    {
     "data": {
      "image/png": "[encoded data removed]",
      "text/plain": [
       "<Figure size 432x288 with 1 Axes>"
      ]
     },
     "metadata": {
      "needs_background": "light"
     },
     "output_type": "display_data"
    }
   ],
   "source": [
    "\n",
    "p1 = plt.bar(ind, tweets, width)\n",
    "p2 = plt.bar(ind, votes, width)"
   ]
  },
  {
   "cell_type": "code",
   "execution_count": 45,
   "metadata": {},
   "outputs": [
    {
     "data": {
      "image/png": "[encoded data removed]",
      "text/plain": [
       "<Figure size 432x288 with 1 Axes>"
      ]
     },
     "metadata": {
      "needs_background": "light"
     },
     "output_type": "display_data"
    }
   ],
   "source": [
    "fig, ax = plt.subplots()\n",
    "\n",
    "ax.bar(cities, votes, width, label='Votes')\n",
    "ax.bar(cities, tweets, width, bottom=votes,\n",
    "       label='Tweets')\n",
    "\n",
    "ax.set_ylabel('Count')\n",
    "ax.set_title('Comparision b/w votes and tweets')\n",
    "ax.legend()\n",
    "\n",
    "plt.show()"
   ]
  },
  {
   "cell_type": "code",
   "execution_count": 48,
   "metadata": {},
   "outputs": [
    {
     "data": {
      "text/plain": [
       "Text(0.5, 1.0, 'Comparision b/w Cities and Votes')"
      ]
     },
     "execution_count": 48,
     "metadata": {},
     "output_type": "execute_result"
    },
    {
     "data": {
      "image/png": "[encoded data removed]",
      "text/plain": [
       "<Figure size 432x288 with 1 Axes>"
      ]
     },
     "metadata": {
      "needs_background": "light"
     },
     "output_type": "display_data"
    }
   ],
   "source": [
    "plt.bar(cities, votes, color='green')\n",
    "# plt.xlabel(\"Cities\")\n",
    "plt.ylabel(\"Votes\")\n",
    "plt.title(\"Comparision b/w Cities and Votes\")"
   ]
  },
  {
   "cell_type": "code",
   "execution_count": 49,
   "metadata": {},
   "outputs": [
    {
     "data": {
      "text/plain": [
       "Text(0.5, 1.0, 'Comparision b/w Cities and Tweets')"
      ]
     },
     "execution_count": 49,
     "metadata": {},
     "output_type": "execute_result"
    },
    {
     "data": {
      "image/png": "[encoded data removed]",
      "text/plain": [
       "<Figure size 432x288 with 1 Axes>"
      ]
     },
     "metadata": {
      "needs_background": "light"
     },
     "output_type": "display_data"
    }
   ],
   "source": [
    "plt.bar(cities, tweets, color='green')\n",
    "# plt.xlabel(\"Cities\")\n",
    "plt.ylabel(\"Tweets\")\n",
    "plt.title(\"Comparision b/w Cities and Tweets\")"
   ]
  },
  {
   "cell_type": "code",
   "execution_count": 57,
   "metadata": {},
   "outputs": [
    {
     "data": {
      "text/plain": [
       "Text(0.5, 1.0, 'Tweets per city population')"
      ]
     },
     "execution_count": 57,
     "metadata": {},
     "output_type": "execute_result"
    },
    {
     "data": {
      "image/png": "[encoded data removed]",
      "text/plain": [
       "<Figure size 432x288 with 1 Axes>"
      ]
     },
     "metadata": {
      "needs_background": "light"
     },
     "output_type": "display_data"
    }
   ],
   "source": [
    "plt.bar(cities, temp, color='green')\n",
    "# plt.xlabel(\"Cities\")\n",
    "plt.ylabel(\"Percentage\")\n",
    "plt.title(\"Tweets per city population\")"
   ]
  },
  {
   "cell_type": "code",
   "execution_count": null,
   "metadata": {},
   "outputs": [],
   "source": []
  }
 ],
 "metadata": {
  "kernelspec": {
   "display_name": "Python 3",
   "language": "python",
   "name": "python3"
  },
  "language_info": {
   "codemirror_mode": {
    "name": "ipython",
    "version": 3
   },
   "file_extension": ".py",
   "mimetype": "text/x-python",
   "name": "python",
   "nbconvert_exporter": "python",
   "pygments_lexer": "ipython3",
   "version": "3.7.3"
  }
 },
 "nbformat": 4,
 "nbformat_minor": 4
}
